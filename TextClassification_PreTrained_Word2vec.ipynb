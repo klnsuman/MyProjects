{
  "nbformat": 4,
  "nbformat_minor": 0,
  "metadata": {
    "colab": {
      "provenance": [],
      "authorship_tag": "ABX9TyPgCvv6cmLRWN4gDB+twQDk",
      "include_colab_link": true
    },
    "kernelspec": {
      "name": "python3",
      "display_name": "Python 3"
    },
    "language_info": {
      "name": "python"
    }
  },
  "cells": [
    {
      "cell_type": "markdown",
      "metadata": {
        "id": "view-in-github",
        "colab_type": "text"
      },
      "source": [
        "<a href=\"https://colab.research.google.com/github/klnsuman/MyProjects/blob/main/TextClassification_PreTrained_Word2vec.ipynb\" target=\"_parent\"><img src=\"https://colab.research.google.com/assets/colab-badge.svg\" alt=\"Open In Colab\"/></a>"
      ]
    },
    {
      "cell_type": "code",
      "execution_count": null,
      "metadata": {
        "id": "nnwIwVOK7fSH"
      },
      "outputs": [],
      "source": []
    },
    {
      "cell_type": "code",
      "source": [
        "from google.colab import drive\n",
        "drive.mount('/content/drive')"
      ],
      "metadata": {
        "colab": {
          "base_uri": "https://localhost:8080/"
        },
        "id": "na-6eiLi9dDT",
        "outputId": "84090aba-d1f1-4903-ddc1-81da21c786e4"
      },
      "execution_count": 1,
      "outputs": [
        {
          "output_type": "stream",
          "name": "stdout",
          "text": [
            "Mounted at /content/drive\n"
          ]
        }
      ]
    },
    {
      "cell_type": "code",
      "source": [
        "import gensim\n",
        "from gensim.models import word2vec\n",
        "from gensim.models.word2vec import Word2Vec\n",
        "import numpy as np\n",
        "import matplotlib.pyplot as plt\n",
        "import pandas as pd\n",
        "import spacy\n",
        "import string\n",
        "print(gensim.__version__)"
      ],
      "metadata": {
        "colab": {
          "base_uri": "https://localhost:8080/"
        },
        "id": "UyM5VabN-qH-",
        "outputId": "212d701f-78dd-4a58-8df9-01ea2fe8c112"
      },
      "execution_count": 4,
      "outputs": [
        {
          "output_type": "stream",
          "name": "stdout",
          "text": [
            "4.3.1\n"
          ]
        }
      ]
    },
    {
      "cell_type": "code",
      "source": [
        "np.random.seed(42)"
      ],
      "metadata": {
        "id": "WVo2y0YoBZOU"
      },
      "execution_count": 6,
      "outputs": []
    },
    {
      "cell_type": "code",
      "source": [
        "import gensim.downloader as api\n",
        "print(list(gensim.downloader.info()['models'].keys()))"
      ],
      "metadata": {
        "colab": {
          "base_uri": "https://localhost:8080/"
        },
        "id": "-nF4RzMdBkg9",
        "outputId": "7c3ddf22-6b51-4a2c-db05-21ab86d23e7d"
      },
      "execution_count": 7,
      "outputs": [
        {
          "output_type": "stream",
          "name": "stdout",
          "text": [
            "['fasttext-wiki-news-subwords-300', 'conceptnet-numberbatch-17-06-300', 'word2vec-ruscorpora-300', 'word2vec-google-news-300', 'glove-wiki-gigaword-50', 'glove-wiki-gigaword-100', 'glove-wiki-gigaword-200', 'glove-wiki-gigaword-300', 'glove-twitter-25', 'glove-twitter-50', 'glove-twitter-100', 'glove-twitter-200', '__testing_word2vec-matrix-synopsis']\n"
          ]
        }
      ]
    },
    {
      "cell_type": "code",
      "source": [
        "wv = api.load('glove-twitter-50')"
      ],
      "metadata": {
        "colab": {
          "base_uri": "https://localhost:8080/"
        },
        "id": "bkBj9SeXBoFn",
        "outputId": "08f56c5c-df12-4d41-fb97-c0e103875b53"
      },
      "execution_count": 8,
      "outputs": [
        {
          "output_type": "stream",
          "name": "stdout",
          "text": [
            "[==================================================] 100.0% 199.5/199.5MB downloaded\n"
          ]
        }
      ]
    },
    {
      "cell_type": "code",
      "source": [
        "wv_news = api.load('word2vec-google-news-300')"
      ],
      "metadata": {
        "colab": {
          "base_uri": "https://localhost:8080/"
        },
        "id": "fMnnJcjnFu91",
        "outputId": "8a1f8ad3-79c8-4b1b-a919-790c636c3f5b"
      },
      "execution_count": 19,
      "outputs": [
        {
          "output_type": "stream",
          "name": "stdout",
          "text": [
            "[=================================================-] 99.9% 1661.5/1662.8MB downloaded\n"
          ]
        }
      ]
    },
    {
      "cell_type": "code",
      "source": [
        "wv_news.save('/content/drive/MyDrive/Data/wv_news_vectors.kv')"
      ],
      "metadata": {
        "id": "WoDFNEKqJsqF"
      },
      "execution_count": 24,
      "outputs": []
    },
    {
      "cell_type": "code",
      "source": [
        "type(wv)"
      ],
      "metadata": {
        "colab": {
          "base_uri": "https://localhost:8080/"
        },
        "id": "aIK6D1FFB7n4",
        "outputId": "bd813320-bec3-44a5-bf59-30c781a52f60"
      },
      "execution_count": 9,
      "outputs": [
        {
          "output_type": "execute_result",
          "data": {
            "text/plain": [
              "gensim.models.keyedvectors.KeyedVectors"
            ]
          },
          "metadata": {},
          "execution_count": 9
        }
      ]
    },
    {
      "cell_type": "code",
      "source": [
        "wv['apple'],wv_news['apple']"
      ],
      "metadata": {
        "colab": {
          "base_uri": "https://localhost:8080/"
        },
        "id": "wdnToj2YCFNV",
        "outputId": "8b5d5967-8e8c-497d-a9da-113a57ec5eff"
      },
      "execution_count": 20,
      "outputs": [
        {
          "output_type": "execute_result",
          "data": {
            "text/plain": [
              "(array([ 5.1418e-01, -1.9196e-01, -7.9963e-01,  9.1339e-01, -5.7061e-01,\n",
              "         7.1746e-01, -5.8979e-01, -5.1530e-01,  1.3453e+00, -2.0792e-01,\n",
              "         4.4555e-01,  2.4981e-01, -3.2020e+00,  3.5736e-01, -2.3593e-02,\n",
              "        -3.1158e-02,  3.7782e-01,  6.4447e-01,  1.2056e+00, -1.0553e-01,\n",
              "        -8.9697e-01, -7.9754e-01,  2.0239e-01, -1.0664e+00, -4.7167e-01,\n",
              "        -2.5953e-01,  1.1328e-01, -3.8142e-01,  2.0366e-03, -5.0261e-01,\n",
              "        -2.5197e-01, -8.4033e-02, -1.0015e+00, -8.6835e-01,  6.6201e-01,\n",
              "         2.6496e-01,  2.2570e-01, -3.3847e-01, -3.4739e-01,  6.2199e-01,\n",
              "        -1.3491e+00, -1.7497e-01, -1.1490e+00,  1.5144e-01,  1.1255e+00,\n",
              "        -6.2668e-01, -3.4274e-01, -3.4938e-01, -1.0806e+00,  6.0174e-01],\n",
              "       dtype=float32),\n",
              " array([-0.06445312, -0.16015625, -0.01208496,  0.13476562, -0.22949219,\n",
              "         0.16210938,  0.3046875 , -0.1796875 , -0.12109375,  0.25390625,\n",
              "        -0.01428223, -0.06396484, -0.08056641, -0.05688477, -0.19628906,\n",
              "         0.2890625 , -0.05151367,  0.14257812, -0.10498047, -0.04736328,\n",
              "        -0.34765625,  0.35742188,  0.265625  ,  0.00188446, -0.01586914,\n",
              "         0.00195312, -0.35546875,  0.22167969,  0.05761719,  0.15917969,\n",
              "         0.08691406, -0.0267334 , -0.04785156,  0.23925781, -0.05981445,\n",
              "         0.0378418 ,  0.17382812, -0.41796875,  0.2890625 ,  0.32617188,\n",
              "         0.02429199, -0.01647949, -0.06494141, -0.08886719,  0.07666016,\n",
              "        -0.15136719,  0.05249023, -0.04199219, -0.05419922,  0.00108337,\n",
              "        -0.20117188,  0.12304688,  0.09228516,  0.10449219, -0.00408936,\n",
              "        -0.04199219,  0.01409912, -0.02111816, -0.13476562, -0.24316406,\n",
              "         0.16015625, -0.06689453, -0.08984375, -0.07177734, -0.00595093,\n",
              "        -0.00482178, -0.00089264, -0.30664062, -0.0625    ,  0.07958984,\n",
              "        -0.00909424, -0.04492188,  0.09960938, -0.33398438, -0.3984375 ,\n",
              "         0.05541992, -0.06689453, -0.04467773,  0.11767578, -0.13964844,\n",
              "        -0.26367188,  0.17480469, -0.17382812, -0.40625   , -0.06738281,\n",
              "        -0.07617188,  0.09423828,  0.20996094, -0.16308594, -0.08691406,\n",
              "        -0.0534668 , -0.10351562, -0.07617188, -0.11083984, -0.03515625,\n",
              "        -0.14941406,  0.0378418 ,  0.38671875,  0.14160156, -0.2890625 ,\n",
              "        -0.16894531, -0.140625  , -0.04174805,  0.22753906,  0.24023438,\n",
              "        -0.01599121, -0.06787109,  0.21875   , -0.42382812, -0.5625    ,\n",
              "        -0.49414062, -0.3359375 ,  0.13378906,  0.01141357,  0.13671875,\n",
              "         0.0324707 ,  0.06835938, -0.27539062, -0.15917969,  0.00121307,\n",
              "         0.01208496, -0.0039978 ,  0.00442505, -0.04541016,  0.08642578,\n",
              "         0.09960938, -0.04296875, -0.11328125,  0.13867188,  0.41796875,\n",
              "        -0.28320312, -0.07373047, -0.11425781,  0.08691406, -0.02148438,\n",
              "         0.328125  , -0.07373047, -0.01348877,  0.17773438, -0.02624512,\n",
              "         0.13378906, -0.11132812, -0.12792969, -0.12792969,  0.18945312,\n",
              "        -0.13867188,  0.29882812, -0.07714844, -0.37695312, -0.10351562,\n",
              "         0.16992188, -0.10742188, -0.29882812,  0.00866699, -0.27734375,\n",
              "        -0.20996094, -0.1796875 , -0.19628906, -0.22167969,  0.08886719,\n",
              "        -0.27734375, -0.13964844,  0.15917969,  0.03637695,  0.03320312,\n",
              "        -0.08105469,  0.25390625, -0.08691406, -0.21289062, -0.18945312,\n",
              "        -0.22363281,  0.06542969, -0.16601562,  0.08837891, -0.359375  ,\n",
              "        -0.09863281,  0.35546875, -0.00741577,  0.19042969,  0.16992188,\n",
              "        -0.06005859, -0.20605469,  0.08105469,  0.12988281, -0.01135254,\n",
              "         0.33203125, -0.08691406,  0.27539062, -0.03271484,  0.12011719,\n",
              "        -0.0625    ,  0.1953125 , -0.10986328, -0.11767578,  0.20996094,\n",
              "         0.19921875,  0.02954102, -0.16015625,  0.00276184, -0.01367188,\n",
              "         0.03442383, -0.19335938,  0.00352478, -0.06542969, -0.05566406,\n",
              "         0.09423828,  0.29296875,  0.04052734, -0.09326172, -0.10107422,\n",
              "        -0.27539062,  0.04394531, -0.07275391,  0.13867188,  0.02380371,\n",
              "         0.13085938,  0.00236511, -0.2265625 ,  0.34765625,  0.13574219,\n",
              "         0.05224609,  0.18164062,  0.0402832 ,  0.23730469, -0.16992188,\n",
              "         0.10058594,  0.03833008,  0.10839844, -0.05615234, -0.00946045,\n",
              "         0.14550781, -0.30078125, -0.32226562,  0.18847656, -0.40234375,\n",
              "        -0.3125    , -0.08007812, -0.26757812,  0.16699219,  0.07324219,\n",
              "         0.06347656,  0.06591797,  0.17285156, -0.17773438,  0.00276184,\n",
              "        -0.05761719, -0.2265625 , -0.19628906,  0.09667969,  0.13769531,\n",
              "        -0.49414062, -0.27929688,  0.12304688, -0.30078125,  0.01293945,\n",
              "        -0.1875    , -0.20898438, -0.1796875 , -0.16015625, -0.03295898,\n",
              "         0.00976562,  0.25390625, -0.25195312,  0.00210571,  0.04296875,\n",
              "         0.01184082, -0.20605469,  0.24804688, -0.203125  , -0.17773438,\n",
              "         0.07275391,  0.04541016,  0.21679688, -0.2109375 ,  0.14550781,\n",
              "        -0.16210938,  0.20410156, -0.19628906, -0.35742188,  0.35742188,\n",
              "        -0.11962891,  0.35742188,  0.10351562,  0.07080078, -0.24707031,\n",
              "        -0.10449219, -0.19238281,  0.1484375 ,  0.00057983,  0.296875  ,\n",
              "        -0.12695312, -0.03979492,  0.13183594, -0.16601562,  0.125     ,\n",
              "         0.05126953, -0.14941406,  0.13671875, -0.02075195,  0.34375   ],\n",
              "       dtype=float32))"
            ]
          },
          "metadata": {},
          "execution_count": 20
        }
      ]
    },
    {
      "cell_type": "code",
      "source": [
        "len(wv['apple']),len(wv_news['apple'])"
      ],
      "metadata": {
        "colab": {
          "base_uri": "https://localhost:8080/"
        },
        "id": "D8I3eaktCIFo",
        "outputId": "c7de7ea2-e398-4bb6-86e0-7da483b7cded"
      },
      "execution_count": 21,
      "outputs": [
        {
          "output_type": "execute_result",
          "data": {
            "text/plain": [
              "(50, 300)"
            ]
          },
          "metadata": {},
          "execution_count": 21
        }
      ]
    },
    {
      "cell_type": "code",
      "source": [
        "print(wv.similarity(\"apple\", \"mango\"),wv_news.similarity(\"apple\", \"mango\"))\n",
        "print(wv.similarity(\"apple\", \"car\"),wv_news.similarity(\"apple\", \"car\"))"
      ],
      "metadata": {
        "colab": {
          "base_uri": "https://localhost:8080/"
        },
        "id": "LSh-c47dC0mV",
        "outputId": "1ddd06d6-a8c1-4a6e-a8fe-c038a72ee247"
      },
      "execution_count": 23,
      "outputs": [
        {
          "output_type": "stream",
          "name": "stdout",
          "text": [
            "0.5289788 0.57518554\n",
            "0.51229525 0.12830707\n"
          ]
        }
      ]
    },
    {
      "cell_type": "code",
      "source": [
        "pairs = [\n",
        "    ('car', 'minivan'),   # a minivan is a kind of car\n",
        "    ('car', 'bicycle'),   # still a wheeled vehicle\n",
        "    ('car', 'airplane'),  # ok, no wheels, but still a vehicle\n",
        "    ('car', 'cereal'),    # ... and so on\n",
        "    ('car', 'communism'),\n",
        "]\n",
        "for w1, w2 in pairs:\n",
        "    print('%r\\t%r\\t%.2f' % (w1, w2, wv.similarity(w1, w2)))"
      ],
      "metadata": {
        "colab": {
          "base_uri": "https://localhost:8080/"
        },
        "id": "c_1kSWkqC1lq",
        "outputId": "414fd650-79d9-4044-abb7-f03bb238b45b"
      },
      "execution_count": 14,
      "outputs": [
        {
          "output_type": "stream",
          "name": "stdout",
          "text": [
            "'car'\t'minivan'\t0.48\n",
            "'car'\t'bicycle'\t0.62\n",
            "'car'\t'airplane'\t0.67\n",
            "'car'\t'cereal'\t0.38\n",
            "'car'\t'communism'\t0.01\n"
          ]
        }
      ]
    },
    {
      "cell_type": "code",
      "source": [
        "data = pd.read_csv(\"/content/drive/MyDrive/Data/toxic_comments.csv\",error_bad_lines=False, engine=\"python\")\n",
        "data.head()"
      ],
      "metadata": {
        "colab": {
          "base_uri": "https://localhost:8080/",
          "height": 296
        },
        "id": "Bt1bmMrxEDl1",
        "outputId": "2370611a-a893-4158-d348-3b5a37059364"
      },
      "execution_count": 16,
      "outputs": [
        {
          "output_type": "stream",
          "name": "stderr",
          "text": [
            "<ipython-input-16-961a6967bfae>:1: FutureWarning: The error_bad_lines argument has been deprecated and will be removed in a future version. Use on_bad_lines in the future.\n",
            "\n",
            "\n",
            "  data = pd.read_csv(\"/content/drive/MyDrive/Data/toxic_comments.csv\",error_bad_lines=False, engine=\"python\")\n"
          ]
        },
        {
          "output_type": "execute_result",
          "data": {
            "text/plain": [
              "                 id                                       comment_text  toxic  \\\n",
              "0  0000997932d777bf  Explanation\\nWhy the edits made under my usern...      0   \n",
              "1  000103f0d9cfb60f  D'aww! He matches this background colour I'm s...      0   \n",
              "2  000113f07ec002fd  Hey man, I'm really not trying to edit war. It...      0   \n",
              "3  0001b41b1c6bb37e  \"\\nMore\\nI can't make any real suggestions on ...      0   \n",
              "4  0001d958c54c6e35  You, sir, are my hero. Any chance you remember...      0   \n",
              "\n",
              "   severe_toxic  obscene  threat  insult  identity_hate  \n",
              "0             0        0       0       0              0  \n",
              "1             0        0       0       0              0  \n",
              "2             0        0       0       0              0  \n",
              "3             0        0       0       0              0  \n",
              "4             0        0       0       0              0  "
            ],
            "text/html": [
              "\n",
              "  <div id=\"df-88562c22-ffad-49e7-b5ca-122e24fb8329\">\n",
              "    <div class=\"colab-df-container\">\n",
              "      <div>\n",
              "<style scoped>\n",
              "    .dataframe tbody tr th:only-of-type {\n",
              "        vertical-align: middle;\n",
              "    }\n",
              "\n",
              "    .dataframe tbody tr th {\n",
              "        vertical-align: top;\n",
              "    }\n",
              "\n",
              "    .dataframe thead th {\n",
              "        text-align: right;\n",
              "    }\n",
              "</style>\n",
              "<table border=\"1\" class=\"dataframe\">\n",
              "  <thead>\n",
              "    <tr style=\"text-align: right;\">\n",
              "      <th></th>\n",
              "      <th>id</th>\n",
              "      <th>comment_text</th>\n",
              "      <th>toxic</th>\n",
              "      <th>severe_toxic</th>\n",
              "      <th>obscene</th>\n",
              "      <th>threat</th>\n",
              "      <th>insult</th>\n",
              "      <th>identity_hate</th>\n",
              "    </tr>\n",
              "  </thead>\n",
              "  <tbody>\n",
              "    <tr>\n",
              "      <th>0</th>\n",
              "      <td>0000997932d777bf</td>\n",
              "      <td>Explanation\\nWhy the edits made under my usern...</td>\n",
              "      <td>0</td>\n",
              "      <td>0</td>\n",
              "      <td>0</td>\n",
              "      <td>0</td>\n",
              "      <td>0</td>\n",
              "      <td>0</td>\n",
              "    </tr>\n",
              "    <tr>\n",
              "      <th>1</th>\n",
              "      <td>000103f0d9cfb60f</td>\n",
              "      <td>D'aww! He matches this background colour I'm s...</td>\n",
              "      <td>0</td>\n",
              "      <td>0</td>\n",
              "      <td>0</td>\n",
              "      <td>0</td>\n",
              "      <td>0</td>\n",
              "      <td>0</td>\n",
              "    </tr>\n",
              "    <tr>\n",
              "      <th>2</th>\n",
              "      <td>000113f07ec002fd</td>\n",
              "      <td>Hey man, I'm really not trying to edit war. It...</td>\n",
              "      <td>0</td>\n",
              "      <td>0</td>\n",
              "      <td>0</td>\n",
              "      <td>0</td>\n",
              "      <td>0</td>\n",
              "      <td>0</td>\n",
              "    </tr>\n",
              "    <tr>\n",
              "      <th>3</th>\n",
              "      <td>0001b41b1c6bb37e</td>\n",
              "      <td>\"\\nMore\\nI can't make any real suggestions on ...</td>\n",
              "      <td>0</td>\n",
              "      <td>0</td>\n",
              "      <td>0</td>\n",
              "      <td>0</td>\n",
              "      <td>0</td>\n",
              "      <td>0</td>\n",
              "    </tr>\n",
              "    <tr>\n",
              "      <th>4</th>\n",
              "      <td>0001d958c54c6e35</td>\n",
              "      <td>You, sir, are my hero. Any chance you remember...</td>\n",
              "      <td>0</td>\n",
              "      <td>0</td>\n",
              "      <td>0</td>\n",
              "      <td>0</td>\n",
              "      <td>0</td>\n",
              "      <td>0</td>\n",
              "    </tr>\n",
              "  </tbody>\n",
              "</table>\n",
              "</div>\n",
              "      <button class=\"colab-df-convert\" onclick=\"convertToInteractive('df-88562c22-ffad-49e7-b5ca-122e24fb8329')\"\n",
              "              title=\"Convert this dataframe to an interactive table.\"\n",
              "              style=\"display:none;\">\n",
              "        \n",
              "  <svg xmlns=\"http://www.w3.org/2000/svg\" height=\"24px\"viewBox=\"0 0 24 24\"\n",
              "       width=\"24px\">\n",
              "    <path d=\"M0 0h24v24H0V0z\" fill=\"none\"/>\n",
              "    <path d=\"M18.56 5.44l.94 2.06.94-2.06 2.06-.94-2.06-.94-.94-2.06-.94 2.06-2.06.94zm-11 1L8.5 8.5l.94-2.06 2.06-.94-2.06-.94L8.5 2.5l-.94 2.06-2.06.94zm10 10l.94 2.06.94-2.06 2.06-.94-2.06-.94-.94-2.06-.94 2.06-2.06.94z\"/><path d=\"M17.41 7.96l-1.37-1.37c-.4-.4-.92-.59-1.43-.59-.52 0-1.04.2-1.43.59L10.3 9.45l-7.72 7.72c-.78.78-.78 2.05 0 2.83L4 21.41c.39.39.9.59 1.41.59.51 0 1.02-.2 1.41-.59l7.78-7.78 2.81-2.81c.8-.78.8-2.07 0-2.86zM5.41 20L4 18.59l7.72-7.72 1.47 1.35L5.41 20z\"/>\n",
              "  </svg>\n",
              "      </button>\n",
              "      \n",
              "  <style>\n",
              "    .colab-df-container {\n",
              "      display:flex;\n",
              "      flex-wrap:wrap;\n",
              "      gap: 12px;\n",
              "    }\n",
              "\n",
              "    .colab-df-convert {\n",
              "      background-color: #E8F0FE;\n",
              "      border: none;\n",
              "      border-radius: 50%;\n",
              "      cursor: pointer;\n",
              "      display: none;\n",
              "      fill: #1967D2;\n",
              "      height: 32px;\n",
              "      padding: 0 0 0 0;\n",
              "      width: 32px;\n",
              "    }\n",
              "\n",
              "    .colab-df-convert:hover {\n",
              "      background-color: #E2EBFA;\n",
              "      box-shadow: 0px 1px 2px rgba(60, 64, 67, 0.3), 0px 1px 3px 1px rgba(60, 64, 67, 0.15);\n",
              "      fill: #174EA6;\n",
              "    }\n",
              "\n",
              "    [theme=dark] .colab-df-convert {\n",
              "      background-color: #3B4455;\n",
              "      fill: #D2E3FC;\n",
              "    }\n",
              "\n",
              "    [theme=dark] .colab-df-convert:hover {\n",
              "      background-color: #434B5C;\n",
              "      box-shadow: 0px 1px 3px 1px rgba(0, 0, 0, 0.15);\n",
              "      filter: drop-shadow(0px 1px 2px rgba(0, 0, 0, 0.3));\n",
              "      fill: #FFFFFF;\n",
              "    }\n",
              "  </style>\n",
              "\n",
              "      <script>\n",
              "        const buttonEl =\n",
              "          document.querySelector('#df-88562c22-ffad-49e7-b5ca-122e24fb8329 button.colab-df-convert');\n",
              "        buttonEl.style.display =\n",
              "          google.colab.kernel.accessAllowed ? 'block' : 'none';\n",
              "\n",
              "        async function convertToInteractive(key) {\n",
              "          const element = document.querySelector('#df-88562c22-ffad-49e7-b5ca-122e24fb8329');\n",
              "          const dataTable =\n",
              "            await google.colab.kernel.invokeFunction('convertToInteractive',\n",
              "                                                     [key], {});\n",
              "          if (!dataTable) return;\n",
              "\n",
              "          const docLinkHtml = 'Like what you see? Visit the ' +\n",
              "            '<a target=\"_blank\" href=https://colab.research.google.com/notebooks/data_table.ipynb>data table notebook</a>'\n",
              "            + ' to learn more about interactive tables.';\n",
              "          element.innerHTML = '';\n",
              "          dataTable['output_type'] = 'display_data';\n",
              "          await google.colab.output.renderOutput(dataTable, element);\n",
              "          const docLink = document.createElement('div');\n",
              "          docLink.innerHTML = docLinkHtml;\n",
              "          element.appendChild(docLink);\n",
              "        }\n",
              "      </script>\n",
              "    </div>\n",
              "  </div>\n",
              "  "
            ]
          },
          "metadata": {},
          "execution_count": 16
        }
      ]
    },
    {
      "cell_type": "code",
      "source": [
        "wv = wv_news"
      ],
      "metadata": {
        "id": "-r4Uh3iAKK3x"
      },
      "execution_count": 25,
      "outputs": []
    },
    {
      "cell_type": "code",
      "source": [
        "print(wv,wv.vector_size)"
      ],
      "metadata": {
        "colab": {
          "base_uri": "https://localhost:8080/"
        },
        "id": "q6fB_kK3ERDD",
        "outputId": "4f93aad0-3a88-4595-b72b-4555cbff0cbb"
      },
      "execution_count": 26,
      "outputs": [
        {
          "output_type": "stream",
          "name": "stdout",
          "text": [
            "KeyedVectors<vector_size=300, 3000000 keys> 300\n"
          ]
        }
      ]
    },
    {
      "cell_type": "code",
      "source": [
        "def sent_vec(sent):\n",
        "    vector_size = wv.vector_size\n",
        "    wv_res = np.zeros(vector_size)\n",
        "    # print(wv_res)\n",
        "    ctr = 1\n",
        "    for w in sent:\n",
        "        if w in wv:\n",
        "            ctr += 1\n",
        "            wv_res += wv[w]\n",
        "    wv_res = wv_res/ctr\n",
        "    return wv_res"
      ],
      "metadata": {
        "id": "iv_8LKbdEsMa"
      },
      "execution_count": 29,
      "outputs": []
    },
    {
      "cell_type": "code",
      "source": [
        "# Creating our tokenizer function\n",
        "def spacy_tokenizer(sentence):\n",
        "    # Creating our token object, which is used to create documents with linguistic annotations.\n",
        "    doc = nlp(sentence)\n",
        "\n",
        "\n",
        "\n",
        "    # print(doc)\n",
        "    # print(type(doc))\n",
        "\n",
        "    # Lemmatizing each token and converting each token into lowercase\n",
        "    mytokens = [ word.lemma_.lower().strip() for word in doc ]\n",
        "\n",
        "    # print(mytokens)\n",
        "\n",
        "    # Removing stop words\n",
        "    mytokens = [ word for word in mytokens if word not in stop_words and word not in punctuations ]\n",
        "\n",
        "    # return preprocessed list of tokens\n",
        "    return mytokens"
      ],
      "metadata": {
        "id": "y_lFLSV-JcF9"
      },
      "execution_count": 30,
      "outputs": []
    },
    {
      "cell_type": "code",
      "source": [
        "sent_vec(\"I am happy\")"
      ],
      "metadata": {
        "colab": {
          "base_uri": "https://localhost:8080/"
        },
        "id": "7hpGsYBILJ7D",
        "outputId": "224c9bb8-f32e-4ef8-c865-7fe3d213456f"
      },
      "execution_count": 31,
      "outputs": [
        {
          "output_type": "execute_result",
          "data": {
            "text/plain": [
              "array([-0.08447266,  0.10973685, -0.00453404,  0.18362863, -0.05944824,\n",
              "       -0.04013497, -0.10041155,  0.03710938, -0.02503313,  0.04729353,\n",
              "       -0.07543836, -0.16434152, -0.1116333 ,  0.02915737, -0.12290737,\n",
              "        0.10421317, -0.00425502,  0.27535575, -0.01681083, -0.08075387,\n",
              "       -0.26747349, -0.07281712,  0.08138602, -0.02498954, -0.05358887,\n",
              "       -0.07969884, -0.30385045,  0.10531616, -0.03756278, -0.04029192,\n",
              "        0.06455776, -0.02200753, -0.11361694, -0.12702288, -0.19824219,\n",
              "        0.06921387, -0.14557757,  0.18457031, -0.05542864,  0.10093471,\n",
              "        0.10728237, -0.07920619, -0.01236398,  0.11485073,  0.09437779,\n",
              "        0.02020509, -0.08954729, -0.12911551, -0.0363072 ,  0.05212402,\n",
              "       -0.12200056,  0.23856027, -0.04056222,  0.12512207,  0.05569894,\n",
              "        0.1237793 , -0.08370536, -0.05489676, -0.0291748 , -0.18401228,\n",
              "       -0.14592634, -0.04910714, -0.15844727, -0.03636387,  0.00628662,\n",
              "       -0.30032785, -0.11404855,  0.08530971,  0.01077706,  0.0574428 ,\n",
              "       -0.09995815, -0.10465785,  0.10574777, -0.00917271, -0.09824262,\n",
              "       -0.04896763,  0.17745536, -0.04339164, -0.06466239,  0.01313128,\n",
              "       -0.09603446,  0.00534494,  0.08458383,  0.01998465,  0.02692522,\n",
              "        0.02752686, -0.02007185,  0.3390067 ,  0.02928162,  0.09033203,\n",
              "        0.07870047,  0.00167411, -0.0333252 , -0.02891323, -0.06089565,\n",
              "        0.07552665, -0.04833984, -0.01628767,  0.10260882, -0.13987514,\n",
              "       -0.08775112, -0.00132533, -0.06152344, -0.04595075,  0.01752145,\n",
              "        0.18024554, -0.06834194,  0.08422852, -0.07257952, -0.07781546,\n",
              "       -0.04582868, -0.10940988,  0.02358028, -0.14972796,  0.01388441,\n",
              "        0.11439732,  0.08854621, -0.00599016,  0.09349278,  0.05398451,\n",
              "        0.07191685,  0.04185268,  0.07831682,  0.08750698,  0.12862723,\n",
              "       -0.21013532,  0.00840105,  0.03111049,  0.03386579,  0.10358538,\n",
              "       -0.07373047, -0.0549142 , -0.01322283, -0.06009347, -0.11294992,\n",
              "        0.00795201,  0.0183803 ,  0.15813337,  0.17522321,  0.20354353,\n",
              "        0.09742955,  0.00415039, -0.00454276, -0.05308315, -0.09364537,\n",
              "        0.02223914, -0.0718471 ,  0.07327706, -0.07641602,  0.01175145,\n",
              "       -0.00167411, -0.28180804, -0.12304688, -0.05371094, -0.11308943,\n",
              "       -0.07055664,  0.04776219,  0.20068359, -0.01813834, -0.02026367,\n",
              "        0.03273228,  0.16364397,  0.07322475,  0.05316162,  0.04755511,\n",
              "       -0.01130022,  0.12465123,  0.06210981, -0.11111886,  0.10103062,\n",
              "       -0.13741629, -0.13131278,  0.03572301, -0.02902658, -0.07064383,\n",
              "        0.21592494,  0.20410156, -0.18233817,  0.08067104,  0.01032366,\n",
              "       -0.07979911,  0.11033412,  0.06340681,  0.02211217, -0.08592006,\n",
              "        0.07704381, -0.0725272 ,  0.07187544,  0.01211984, -0.03060477,\n",
              "        0.0861642 , -0.15258789, -0.12581961,  0.0480957 ,  0.17222377,\n",
              "        0.01384626, -0.02099609, -0.00728498,  0.06734794, -0.02685547,\n",
              "       -0.11829485,  0.04153878, -0.12597656, -0.13134766,  0.05083357,\n",
              "       -0.0584368 , -0.07868304,  0.09730748, -0.05726842,  0.13896833,\n",
              "        0.13838414, -0.00094169, -0.1723284 ,  0.05303083, -0.11791992,\n",
              "       -0.00174386,  0.1492048 , -0.07749721, -0.04099819,  0.02959333,\n",
              "       -0.05730329,  0.15049526,  0.22276088, -0.00498744,  0.05608259,\n",
              "       -0.11181641,  0.08290318,  0.13769531, -0.02134487, -0.01025391,\n",
              "       -0.01314872,  0.00779506, -0.16397531, -0.05090332, -0.02671596,\n",
              "        0.06131417, -0.09092494,  0.13727679,  0.11607143,  0.02842494,\n",
              "        0.07364764,  0.07584054,  0.17138672, -0.08429827, -0.00184849,\n",
              "        0.12456839, -0.13391113,  0.13455636, -0.12329102, -0.00519671,\n",
              "        0.10740716, -0.05678013, -0.02547782,  0.12550572, -0.04554967,\n",
              "       -0.12297712, -0.00975255,  0.00516183,  0.0862296 , -0.06199864,\n",
              "       -0.0128697 , -0.03205218,  0.0324707 , -0.08956473, -0.09884208,\n",
              "        0.08334351,  0.11446708, -0.03658622,  0.05376761, -0.04617746,\n",
              "       -0.06955174,  0.0453404 ,  0.14022391,  0.02305385,  0.07013811,\n",
              "       -0.01949637, -0.22670201, -0.1367885 , -0.10330636,  0.08925084,\n",
              "        0.01345389,  0.24515751,  0.01749093, -0.05561175,  0.06201172,\n",
              "       -0.017116  ,  0.01143101,  0.01436942, -0.05946568, -0.09169224,\n",
              "        0.04420689, -0.06291853, -0.20572335,  0.10785784, -0.01130022,\n",
              "       -0.15813337, -0.11539132, -0.00368827, -0.00578962,  0.05154855])"
            ]
          },
          "metadata": {},
          "execution_count": 31
        }
      ]
    },
    {
      "cell_type": "code",
      "source": [
        "nlp = spacy.load(\"en_core_web_sm\")\n",
        "stop_words = nlp.Defaults.stop_words\n",
        "print(stop_words)"
      ],
      "metadata": {
        "colab": {
          "base_uri": "https://localhost:8080/"
        },
        "id": "yUbGvYS7LTmr",
        "outputId": "7fe2d5a0-938f-4034-c030-70dee91bc704"
      },
      "execution_count": 32,
      "outputs": [
        {
          "output_type": "stream",
          "name": "stdout",
          "text": [
            "{'say', 'third', 'over', 'why', 'perhaps', 'even', 'except', 'else', 'us', 'such', 'regarding', 'take', 'had', 'front', 'against', 'whom', 'none', 'go', 'might', 'after', 'itself', 'own', 'someone', 'did', 'seeming', 'everywhere', 'when', 'is', 'an', 'ca', 'hereupon', 'these', 'along', 'its', 'she', 'most', 'using', 'above', 'fifteen', 'mine', 'everyone', 'namely', 'to', 'either', 'themselves', 'four', 'my', 'still', 'here', 'formerly', 'with', 'others', 'have', 'some', 'beyond', 'already', 'off', 'because', 'where', 'fifty', 'more', 'whence', 'both', 'amongst', 'sometime', 'done', 'almost', 'quite', 'afterwards', 'cannot', 'nevertheless', 'very', 'two', 'become', 'noone', 'full', 'rather', 'however', 'used', 'thru', 'being', 'down', 'seem', 'no', 'or', 'those', 'the', 'anyway', 'of', 'amount', 'from', '‘d', 'least', 'himself', 'hereafter', 'anyhow', '’d', 'by', 'also', 'ever', 'her', 'throughout', 'latterly', 'wherein', 'yet', 'this', 'up', 'please', 'mostly', 'whereafter', 'doing', 'one', 'hers', 'nobody', '’ve', 'myself', \"'s\", 'now', 'well', '’m', 'anywhere', 'only', 'sixty', 'nothing', 'sometimes', 'during', 'were', 'first', 'within', 'indeed', 'always', 'just', 'thus', 'therefore', 'while', 'yourselves', 'are', 'keep', 'somewhere', 'bottom', 'n‘t', 'move', 'nowhere', 'many', 'them', 'which', 'do', 'less', 'neither', 'whoever', 'me', 'in', 'into', 'about', 'beside', '‘ll', 'forty', 'am', 'made', 'empty', 'among', 'hundred', 'out', 'thence', 'there', 'everything', 'never', 'should', 'all', 'often', '‘m', 'three', 'seemed', 're', 'former', 'whether', \"'m\", 'something', '‘ve', 'herself', 'below', 'ours', 'whither', 'whereby', \"n't\", 'due', 'another', 'at', 'becomes', 'whole', 'eight', 'whereupon', 'last', '’s', 'as', 'though', 'side', 'thereupon', 'although', 'could', 'whenever', 'whose', 'hence', 'and', 'once', 'besides', 'who', 'call', 'upon', 'for', 'each', 'has', 'eleven', 'then', 'under', 'but', 'since', \"'re\", 'name', 'yours', 'they', 'will', 'him', 'somehow', 'beforehand', 'elsewhere', 'get', 'next', 'not', 'must', 'several', 'meanwhile', 'anything', 'may', 'a', 'therein', 'nor', 'toward', 'per', 'thereby', 'what', 'yourself', 'was', 'you', 'i', 'alone', 'moreover', 'twenty', 'wherever', 'be', 'put', 'hereby', 'without', 'across', 'otherwise', 'between', 'before', 'together', 'twelve', \"'d\", 'show', 'make', 'further', \"'ve\", 'can', 'ten', 'ourselves', 'been', 'his', 'your', 'anyone', 'six', 'really', 'five', 'behind', 'other', 'than', 'on', 'our', 'too', 'it', 'he', 'serious', 'whereas', 'onto', 'would', 'until', 'if', '’ll', 'any', 'herein', 'how', 'again', 'that', 'towards', 'around', 'few', 'so', 'latter', 'every', '‘re', '‘s', '’re', 'seems', 'much', 'various', 'through', 'see', 'we', 'part', 'their', 'via', 'same', 'whatever', 'back', 'top', \"'ll\", 'n’t', 'enough', 'nine', 'becoming', 'unless', 'became', 'does', 'thereafter', 'give'}\n"
          ]
        }
      ]
    },
    {
      "cell_type": "code",
      "source": [
        "punctuations = string.punctuation\n",
        "print(punctuations)"
      ],
      "metadata": {
        "colab": {
          "base_uri": "https://localhost:8080/"
        },
        "id": "LdAh8KW5LcQi",
        "outputId": "f9317cca-4b72-42f0-8f6f-7fdc6859fc47"
      },
      "execution_count": 33,
      "outputs": [
        {
          "output_type": "stream",
          "name": "stdout",
          "text": [
            "!\"#$%&'()*+,-./:;<=>?@[\\]^_`{|}~\n"
          ]
        }
      ]
    },
    {
      "cell_type": "code",
      "source": [
        "data['tokens'] = data['comment_text'].apply(spacy_tokenizer)"
      ],
      "metadata": {
        "id": "9YZefTGhLh3b"
      },
      "execution_count": 34,
      "outputs": []
    },
    {
      "cell_type": "code",
      "source": [
        "data['tokens'].head()"
      ],
      "metadata": {
        "colab": {
          "base_uri": "https://localhost:8080/"
        },
        "id": "-5cJ82gQeE7R",
        "outputId": "6f85869d-0d0b-45a3-bcf1-f7e9f4c4e574"
      },
      "execution_count": 35,
      "outputs": [
        {
          "output_type": "execute_result",
          "data": {
            "text/plain": [
              "0    [explanation, edit, username, hardcore, metall...\n",
              "1    [d'aww, match, background, colour, seemingly, ...\n",
              "2    [hey, man, try, edit, war, guy, constantly, re...\n",
              "3    [real, suggestion, improvement, wonder, sectio...\n",
              "4                  [sir, hero, chance, remember, page]\n",
              "Name: tokens, dtype: object"
            ]
          },
          "metadata": {},
          "execution_count": 35
        }
      ]
    },
    {
      "cell_type": "code",
      "source": [
        "data['vec'] = data['tokens'].apply(sent_vec)"
      ],
      "metadata": {
        "id": "a0wpT78QeLkk"
      },
      "execution_count": 36,
      "outputs": []
    },
    {
      "cell_type": "code",
      "source": [
        "data.head()"
      ],
      "metadata": {
        "colab": {
          "base_uri": "https://localhost:8080/",
          "height": 528
        },
        "id": "jeq_RpesfEoY",
        "outputId": "88148165-f59b-45c4-d51e-e853766ffd52"
      },
      "execution_count": 37,
      "outputs": [
        {
          "output_type": "execute_result",
          "data": {
            "text/plain": [
              "                 id                                       comment_text  toxic  \\\n",
              "0  0000997932d777bf  Explanation\\nWhy the edits made under my usern...      0   \n",
              "1  000103f0d9cfb60f  D'aww! He matches this background colour I'm s...      0   \n",
              "2  000113f07ec002fd  Hey man, I'm really not trying to edit war. It...      0   \n",
              "3  0001b41b1c6bb37e  \"\\nMore\\nI can't make any real suggestions on ...      0   \n",
              "4  0001d958c54c6e35  You, sir, are my hero. Any chance you remember...      0   \n",
              "\n",
              "   severe_toxic  obscene  threat  insult  identity_hate  \\\n",
              "0             0        0       0       0              0   \n",
              "1             0        0       0       0              0   \n",
              "2             0        0       0       0              0   \n",
              "3             0        0       0       0              0   \n",
              "4             0        0       0       0              0   \n",
              "\n",
              "                                              tokens  \\\n",
              "0  [explanation, edit, username, hardcore, metall...   \n",
              "1  [d'aww, match, background, colour, seemingly, ...   \n",
              "2  [hey, man, try, edit, war, guy, constantly, re...   \n",
              "3  [real, suggestion, improvement, wonder, sectio...   \n",
              "4                [sir, hero, chance, remember, page]   \n",
              "\n",
              "                                                 vec  \n",
              "0  [-0.005419776553199405, 0.046755836123511904, ...  \n",
              "1  [-0.03402879503038195, -0.042989095052083336, ...  \n",
              "2  [0.03130035400390625, 0.043255615234375, -0.00...  \n",
              "3  [0.008553277878534226, 0.006958734421502976, 0...  \n",
              "4  [0.14371744791666666, 0.051432291666666664, 0....  "
            ],
            "text/html": [
              "\n",
              "  <div id=\"df-f05d4deb-dd99-40e6-8050-6b34a62b04af\">\n",
              "    <div class=\"colab-df-container\">\n",
              "      <div>\n",
              "<style scoped>\n",
              "    .dataframe tbody tr th:only-of-type {\n",
              "        vertical-align: middle;\n",
              "    }\n",
              "\n",
              "    .dataframe tbody tr th {\n",
              "        vertical-align: top;\n",
              "    }\n",
              "\n",
              "    .dataframe thead th {\n",
              "        text-align: right;\n",
              "    }\n",
              "</style>\n",
              "<table border=\"1\" class=\"dataframe\">\n",
              "  <thead>\n",
              "    <tr style=\"text-align: right;\">\n",
              "      <th></th>\n",
              "      <th>id</th>\n",
              "      <th>comment_text</th>\n",
              "      <th>toxic</th>\n",
              "      <th>severe_toxic</th>\n",
              "      <th>obscene</th>\n",
              "      <th>threat</th>\n",
              "      <th>insult</th>\n",
              "      <th>identity_hate</th>\n",
              "      <th>tokens</th>\n",
              "      <th>vec</th>\n",
              "    </tr>\n",
              "  </thead>\n",
              "  <tbody>\n",
              "    <tr>\n",
              "      <th>0</th>\n",
              "      <td>0000997932d777bf</td>\n",
              "      <td>Explanation\\nWhy the edits made under my usern...</td>\n",
              "      <td>0</td>\n",
              "      <td>0</td>\n",
              "      <td>0</td>\n",
              "      <td>0</td>\n",
              "      <td>0</td>\n",
              "      <td>0</td>\n",
              "      <td>[explanation, edit, username, hardcore, metall...</td>\n",
              "      <td>[-0.005419776553199405, 0.046755836123511904, ...</td>\n",
              "    </tr>\n",
              "    <tr>\n",
              "      <th>1</th>\n",
              "      <td>000103f0d9cfb60f</td>\n",
              "      <td>D'aww! He matches this background colour I'm s...</td>\n",
              "      <td>0</td>\n",
              "      <td>0</td>\n",
              "      <td>0</td>\n",
              "      <td>0</td>\n",
              "      <td>0</td>\n",
              "      <td>0</td>\n",
              "      <td>[d'aww, match, background, colour, seemingly, ...</td>\n",
              "      <td>[-0.03402879503038195, -0.042989095052083336, ...</td>\n",
              "    </tr>\n",
              "    <tr>\n",
              "      <th>2</th>\n",
              "      <td>000113f07ec002fd</td>\n",
              "      <td>Hey man, I'm really not trying to edit war. It...</td>\n",
              "      <td>0</td>\n",
              "      <td>0</td>\n",
              "      <td>0</td>\n",
              "      <td>0</td>\n",
              "      <td>0</td>\n",
              "      <td>0</td>\n",
              "      <td>[hey, man, try, edit, war, guy, constantly, re...</td>\n",
              "      <td>[0.03130035400390625, 0.043255615234375, -0.00...</td>\n",
              "    </tr>\n",
              "    <tr>\n",
              "      <th>3</th>\n",
              "      <td>0001b41b1c6bb37e</td>\n",
              "      <td>\"\\nMore\\nI can't make any real suggestions on ...</td>\n",
              "      <td>0</td>\n",
              "      <td>0</td>\n",
              "      <td>0</td>\n",
              "      <td>0</td>\n",
              "      <td>0</td>\n",
              "      <td>0</td>\n",
              "      <td>[real, suggestion, improvement, wonder, sectio...</td>\n",
              "      <td>[0.008553277878534226, 0.006958734421502976, 0...</td>\n",
              "    </tr>\n",
              "    <tr>\n",
              "      <th>4</th>\n",
              "      <td>0001d958c54c6e35</td>\n",
              "      <td>You, sir, are my hero. Any chance you remember...</td>\n",
              "      <td>0</td>\n",
              "      <td>0</td>\n",
              "      <td>0</td>\n",
              "      <td>0</td>\n",
              "      <td>0</td>\n",
              "      <td>0</td>\n",
              "      <td>[sir, hero, chance, remember, page]</td>\n",
              "      <td>[0.14371744791666666, 0.051432291666666664, 0....</td>\n",
              "    </tr>\n",
              "  </tbody>\n",
              "</table>\n",
              "</div>\n",
              "      <button class=\"colab-df-convert\" onclick=\"convertToInteractive('df-f05d4deb-dd99-40e6-8050-6b34a62b04af')\"\n",
              "              title=\"Convert this dataframe to an interactive table.\"\n",
              "              style=\"display:none;\">\n",
              "        \n",
              "  <svg xmlns=\"http://www.w3.org/2000/svg\" height=\"24px\"viewBox=\"0 0 24 24\"\n",
              "       width=\"24px\">\n",
              "    <path d=\"M0 0h24v24H0V0z\" fill=\"none\"/>\n",
              "    <path d=\"M18.56 5.44l.94 2.06.94-2.06 2.06-.94-2.06-.94-.94-2.06-.94 2.06-2.06.94zm-11 1L8.5 8.5l.94-2.06 2.06-.94-2.06-.94L8.5 2.5l-.94 2.06-2.06.94zm10 10l.94 2.06.94-2.06 2.06-.94-2.06-.94-.94-2.06-.94 2.06-2.06.94z\"/><path d=\"M17.41 7.96l-1.37-1.37c-.4-.4-.92-.59-1.43-.59-.52 0-1.04.2-1.43.59L10.3 9.45l-7.72 7.72c-.78.78-.78 2.05 0 2.83L4 21.41c.39.39.9.59 1.41.59.51 0 1.02-.2 1.41-.59l7.78-7.78 2.81-2.81c.8-.78.8-2.07 0-2.86zM5.41 20L4 18.59l7.72-7.72 1.47 1.35L5.41 20z\"/>\n",
              "  </svg>\n",
              "      </button>\n",
              "      \n",
              "  <style>\n",
              "    .colab-df-container {\n",
              "      display:flex;\n",
              "      flex-wrap:wrap;\n",
              "      gap: 12px;\n",
              "    }\n",
              "\n",
              "    .colab-df-convert {\n",
              "      background-color: #E8F0FE;\n",
              "      border: none;\n",
              "      border-radius: 50%;\n",
              "      cursor: pointer;\n",
              "      display: none;\n",
              "      fill: #1967D2;\n",
              "      height: 32px;\n",
              "      padding: 0 0 0 0;\n",
              "      width: 32px;\n",
              "    }\n",
              "\n",
              "    .colab-df-convert:hover {\n",
              "      background-color: #E2EBFA;\n",
              "      box-shadow: 0px 1px 2px rgba(60, 64, 67, 0.3), 0px 1px 3px 1px rgba(60, 64, 67, 0.15);\n",
              "      fill: #174EA6;\n",
              "    }\n",
              "\n",
              "    [theme=dark] .colab-df-convert {\n",
              "      background-color: #3B4455;\n",
              "      fill: #D2E3FC;\n",
              "    }\n",
              "\n",
              "    [theme=dark] .colab-df-convert:hover {\n",
              "      background-color: #434B5C;\n",
              "      box-shadow: 0px 1px 3px 1px rgba(0, 0, 0, 0.15);\n",
              "      filter: drop-shadow(0px 1px 2px rgba(0, 0, 0, 0.3));\n",
              "      fill: #FFFFFF;\n",
              "    }\n",
              "  </style>\n",
              "\n",
              "      <script>\n",
              "        const buttonEl =\n",
              "          document.querySelector('#df-f05d4deb-dd99-40e6-8050-6b34a62b04af button.colab-df-convert');\n",
              "        buttonEl.style.display =\n",
              "          google.colab.kernel.accessAllowed ? 'block' : 'none';\n",
              "\n",
              "        async function convertToInteractive(key) {\n",
              "          const element = document.querySelector('#df-f05d4deb-dd99-40e6-8050-6b34a62b04af');\n",
              "          const dataTable =\n",
              "            await google.colab.kernel.invokeFunction('convertToInteractive',\n",
              "                                                     [key], {});\n",
              "          if (!dataTable) return;\n",
              "\n",
              "          const docLinkHtml = 'Like what you see? Visit the ' +\n",
              "            '<a target=\"_blank\" href=https://colab.research.google.com/notebooks/data_table.ipynb>data table notebook</a>'\n",
              "            + ' to learn more about interactive tables.';\n",
              "          element.innerHTML = '';\n",
              "          dataTable['output_type'] = 'display_data';\n",
              "          await google.colab.output.renderOutput(dataTable, element);\n",
              "          const docLink = document.createElement('div');\n",
              "          docLink.innerHTML = docLinkHtml;\n",
              "          element.appendChild(docLink);\n",
              "        }\n",
              "      </script>\n",
              "    </div>\n",
              "  </div>\n",
              "  "
            ]
          },
          "metadata": {},
          "execution_count": 37
        }
      ]
    },
    {
      "cell_type": "code",
      "source": [
        "X = data['vec'].to_list()\n",
        "y = data['toxic'].to_list()"
      ],
      "metadata": {
        "id": "oukz7c8MfJ6O"
      },
      "execution_count": 38,
      "outputs": []
    },
    {
      "cell_type": "code",
      "source": [
        "X[0]"
      ],
      "metadata": {
        "colab": {
          "base_uri": "https://localhost:8080/"
        },
        "id": "_lh29c6AfNoz",
        "outputId": "d04165b7-0a1a-4dcc-a20c-bc616ebeda3b"
      },
      "execution_count": 41,
      "outputs": [
        {
          "output_type": "execute_result",
          "data": {
            "text/plain": [
              "array([-0.00541978,  0.04675584,  0.00133696,  0.0850801 , -0.06447638,\n",
              "       -0.00180263, -0.00253596, -0.11783854,  0.12369792,  0.02642146,\n",
              "       -0.02159773, -0.03835333, -0.02583386,  0.02868071, -0.09855725,\n",
              "        0.0882859 ,  0.01708984,  0.05018398, -0.01936704, -0.13048444,\n",
              "        0.074941  ,  0.06057485,  0.08355422,  0.03940982, -0.03506034,\n",
              "        0.03308033, -0.05092076,  0.09277489,  0.04749698, -0.10054706,\n",
              "       -0.04815383,  0.01269531, -0.09663028, -0.00693476, -0.02238973,\n",
              "       -0.0322905 ,  0.08835856,  0.03654298,  0.06050037,  0.1015625 ,\n",
              "        0.04052734, -0.04001726,  0.16807138, -0.01393345, -0.0494363 ,\n",
              "       -0.10120501, -0.00805664, -0.02898362, -0.09638904,  0.03300985,\n",
              "       -0.10766166, -0.01426442, -0.03711337, -0.08377511,  0.00310989,\n",
              "       -0.01328096, -0.05810547, -0.06438337, -0.023888  , -0.09505208,\n",
              "       -0.02969215, -0.00195022, -0.02789452, -0.03556315, -0.06668381,\n",
              "       -0.02664621, -0.0712818 ,  0.02684675, -0.03303019,  0.12637184,\n",
              "        0.07983398,  0.09673782,  0.00772986, -0.05902972, -0.16941761,\n",
              "       -0.03587414,  0.04979451,  0.00470552,  0.04998198,  0.03605143,\n",
              "        0.03076172, -0.01172311,  0.0526559 ,  0.06107803,  0.11278207,\n",
              "       -0.0198684 , -0.09895252,  0.13166736,  0.07466053,  0.00032552,\n",
              "        0.03026762, -0.05290476, -0.0270829 , -0.03641764, -0.0188773 ,\n",
              "        0.0095302 ,  0.02105568,  0.00502523, -0.00033715,  0.02949451,\n",
              "        0.03119768,  0.07390195,  0.05878993,  0.02593703, -0.03281076,\n",
              "       -0.09285663,  0.00669643, -0.00288609,  0.04851859, -0.09046863,\n",
              "       -0.0842663 , -0.10023135, -0.0362607 , -0.06870815,  0.09982409,\n",
              "       -0.04373505,  0.00963193, -0.11232213,  0.10234142,  0.01734568,\n",
              "       -0.00405566, -0.01888021, -0.09883336,  0.06763277,  0.08151708,\n",
              "       -0.07523164, -0.08012317, -0.01809547,  0.02608817, -0.02899533,\n",
              "       -0.09753999, -0.13520886, -0.04044814,  0.08193824,  0.01310149,\n",
              "        0.06448219, -0.10860189, -0.04243397,  0.01761882,  0.02184259,\n",
              "        0.06120882, -0.0928134 , -0.03837658,  0.00287447,  0.06375558,\n",
              "        0.03169904, -0.03389486, -0.01422846, -0.04470535, -0.09817941,\n",
              "        0.11524818, -0.0275937 ,  0.01522101,  0.03013684,  0.05206589,\n",
              "       -0.12991478, -0.06475539, -0.01471965, -0.05275763, -0.02400684,\n",
              "        0.0396496 ,  0.09204973, -0.01482864,  0.00134277,  0.01339867,\n",
              "       -0.10670689,  0.05606515, -0.04074242, -0.10041882,  0.10659935,\n",
              "       -0.04533895,  0.02346402, -0.02201189, -0.02160935,  0.02336775,\n",
              "       -0.01596069,  0.0830456 , -0.10962059, -0.07052758, -0.01384917,\n",
              "       -0.11336263, -0.0322767 , -0.0035691 , -0.06942022,  0.05857195,\n",
              "        0.01330276, -0.08414714,  0.10415985,  0.09823463,  0.11195156,\n",
              "       -0.0598377 ,  0.01591855, -0.04564848,  0.04284087,  0.02984038,\n",
              "        0.04499744,  0.0589309 , -0.00701323, -0.0958252 ,  0.00689988,\n",
              "       -0.01656087,  0.05594889, -0.03060041, -0.07040841, -0.00243269,\n",
              "       -0.01352583, -0.03753371, -0.05017489,  0.00161598,  0.0093006 ,\n",
              "        0.00285212,  0.03746977,  0.00676618, -0.00680542, -0.1018764 ,\n",
              "        0.04484558,  0.03106181, -0.01054927, -0.05716378, -0.05298142,\n",
              "       -0.01085263,  0.00891949, -0.01735142,  0.01397705,  0.08945756,\n",
              "       -0.06678409, -0.03198242,  0.03206526, -0.00538563,  0.01233637,\n",
              "       -0.02466656, -0.00894601, -0.03849284,  0.00028192,  0.05591329,\n",
              "        0.00094169,  0.0697501 , -0.07825252,  0.14868927,  0.03591919,\n",
              "        0.0367606 , -0.07152158,  0.00620161, -0.13327753, -0.0221267 ,\n",
              "        0.03952753,  0.01769148,  0.16401018,  0.00702195, -0.02436756,\n",
              "        0.05878557,  0.15714809, -0.03480748,  0.0247454 ,  0.06329346,\n",
              "       -0.02771577,  0.04100037,  0.03093265, -0.03535516, -0.07143039,\n",
              "        0.08879889,  0.00621505, -0.02498372,  0.00828044,  0.00557309,\n",
              "        0.03533645, -0.04733131,  0.01279195, -0.04739525, -0.0733054 ,\n",
              "        0.07032195,  0.15590695,  0.0680077 , -0.00810787,  0.04043833,\n",
              "       -0.02249727, -0.06834811, -0.12122163, -0.0492234 ,  0.02055722,\n",
              "       -0.01999047,  0.05870565, -0.01046317,  0.04267992,  0.10230655,\n",
              "       -0.02893103, -0.05896577,  0.00204613, -0.0236642 , -0.00776704,\n",
              "        0.04704939,  0.08181327, -0.07428923,  0.00675456, -0.01132638,\n",
              "       -0.06583078,  0.04950242, -0.08710007, -0.03731283, -0.01707241])"
            ]
          },
          "metadata": {},
          "execution_count": 41
        }
      ]
    },
    {
      "cell_type": "code",
      "source": [
        "from sklearn.model_selection import train_test_split\n",
        "X_train, X_test, y_train, y_test = train_test_split(X, y, test_size=0.2,stratify=y)"
      ],
      "metadata": {
        "id": "6M177PHdfPCY"
      },
      "execution_count": 40,
      "outputs": []
    },
    {
      "cell_type": "code",
      "source": [
        "from sklearn.linear_model import LogisticRegression\n",
        "classifier = LogisticRegression()"
      ],
      "metadata": {
        "id": "ygpEXQlHfUmm"
      },
      "execution_count": 42,
      "outputs": []
    },
    {
      "cell_type": "code",
      "source": [
        "classifier.fit(X_train,y_train)"
      ],
      "metadata": {
        "colab": {
          "base_uri": "https://localhost:8080/",
          "height": 234
        },
        "id": "AekVMSmOfXJM",
        "outputId": "ba68794c-fd08-4f8b-bf41-bbc76a329ba4"
      },
      "execution_count": 43,
      "outputs": [
        {
          "output_type": "stream",
          "name": "stderr",
          "text": [
            "/usr/local/lib/python3.10/dist-packages/sklearn/linear_model/_logistic.py:458: ConvergenceWarning: lbfgs failed to converge (status=1):\n",
            "STOP: TOTAL NO. of ITERATIONS REACHED LIMIT.\n",
            "\n",
            "Increase the number of iterations (max_iter) or scale the data as shown in:\n",
            "    https://scikit-learn.org/stable/modules/preprocessing.html\n",
            "Please also refer to the documentation for alternative solver options:\n",
            "    https://scikit-learn.org/stable/modules/linear_model.html#logistic-regression\n",
            "  n_iter_i = _check_optimize_result(\n"
          ]
        },
        {
          "output_type": "execute_result",
          "data": {
            "text/plain": [
              "LogisticRegression()"
            ],
            "text/html": [
              "<style>#sk-container-id-1 {color: black;background-color: white;}#sk-container-id-1 pre{padding: 0;}#sk-container-id-1 div.sk-toggleable {background-color: white;}#sk-container-id-1 label.sk-toggleable__label {cursor: pointer;display: block;width: 100%;margin-bottom: 0;padding: 0.3em;box-sizing: border-box;text-align: center;}#sk-container-id-1 label.sk-toggleable__label-arrow:before {content: \"▸\";float: left;margin-right: 0.25em;color: #696969;}#sk-container-id-1 label.sk-toggleable__label-arrow:hover:before {color: black;}#sk-container-id-1 div.sk-estimator:hover label.sk-toggleable__label-arrow:before {color: black;}#sk-container-id-1 div.sk-toggleable__content {max-height: 0;max-width: 0;overflow: hidden;text-align: left;background-color: #f0f8ff;}#sk-container-id-1 div.sk-toggleable__content pre {margin: 0.2em;color: black;border-radius: 0.25em;background-color: #f0f8ff;}#sk-container-id-1 input.sk-toggleable__control:checked~div.sk-toggleable__content {max-height: 200px;max-width: 100%;overflow: auto;}#sk-container-id-1 input.sk-toggleable__control:checked~label.sk-toggleable__label-arrow:before {content: \"▾\";}#sk-container-id-1 div.sk-estimator input.sk-toggleable__control:checked~label.sk-toggleable__label {background-color: #d4ebff;}#sk-container-id-1 div.sk-label input.sk-toggleable__control:checked~label.sk-toggleable__label {background-color: #d4ebff;}#sk-container-id-1 input.sk-hidden--visually {border: 0;clip: rect(1px 1px 1px 1px);clip: rect(1px, 1px, 1px, 1px);height: 1px;margin: -1px;overflow: hidden;padding: 0;position: absolute;width: 1px;}#sk-container-id-1 div.sk-estimator {font-family: monospace;background-color: #f0f8ff;border: 1px dotted black;border-radius: 0.25em;box-sizing: border-box;margin-bottom: 0.5em;}#sk-container-id-1 div.sk-estimator:hover {background-color: #d4ebff;}#sk-container-id-1 div.sk-parallel-item::after {content: \"\";width: 100%;border-bottom: 1px solid gray;flex-grow: 1;}#sk-container-id-1 div.sk-label:hover label.sk-toggleable__label {background-color: #d4ebff;}#sk-container-id-1 div.sk-serial::before {content: \"\";position: absolute;border-left: 1px solid gray;box-sizing: border-box;top: 0;bottom: 0;left: 50%;z-index: 0;}#sk-container-id-1 div.sk-serial {display: flex;flex-direction: column;align-items: center;background-color: white;padding-right: 0.2em;padding-left: 0.2em;position: relative;}#sk-container-id-1 div.sk-item {position: relative;z-index: 1;}#sk-container-id-1 div.sk-parallel {display: flex;align-items: stretch;justify-content: center;background-color: white;position: relative;}#sk-container-id-1 div.sk-item::before, #sk-container-id-1 div.sk-parallel-item::before {content: \"\";position: absolute;border-left: 1px solid gray;box-sizing: border-box;top: 0;bottom: 0;left: 50%;z-index: -1;}#sk-container-id-1 div.sk-parallel-item {display: flex;flex-direction: column;z-index: 1;position: relative;background-color: white;}#sk-container-id-1 div.sk-parallel-item:first-child::after {align-self: flex-end;width: 50%;}#sk-container-id-1 div.sk-parallel-item:last-child::after {align-self: flex-start;width: 50%;}#sk-container-id-1 div.sk-parallel-item:only-child::after {width: 0;}#sk-container-id-1 div.sk-dashed-wrapped {border: 1px dashed gray;margin: 0 0.4em 0.5em 0.4em;box-sizing: border-box;padding-bottom: 0.4em;background-color: white;}#sk-container-id-1 div.sk-label label {font-family: monospace;font-weight: bold;display: inline-block;line-height: 1.2em;}#sk-container-id-1 div.sk-label-container {text-align: center;}#sk-container-id-1 div.sk-container {/* jupyter's `normalize.less` sets `[hidden] { display: none; }` but bootstrap.min.css set `[hidden] { display: none !important; }` so we also need the `!important` here to be able to override the default hidden behavior on the sphinx rendered scikit-learn.org. See: https://github.com/scikit-learn/scikit-learn/issues/21755 */display: inline-block !important;position: relative;}#sk-container-id-1 div.sk-text-repr-fallback {display: none;}</style><div id=\"sk-container-id-1\" class=\"sk-top-container\"><div class=\"sk-text-repr-fallback\"><pre>LogisticRegression()</pre><b>In a Jupyter environment, please rerun this cell to show the HTML representation or trust the notebook. <br />On GitHub, the HTML representation is unable to render, please try loading this page with nbviewer.org.</b></div><div class=\"sk-container\" hidden><div class=\"sk-item\"><div class=\"sk-estimator sk-toggleable\"><input class=\"sk-toggleable__control sk-hidden--visually\" id=\"sk-estimator-id-1\" type=\"checkbox\" checked><label for=\"sk-estimator-id-1\" class=\"sk-toggleable__label sk-toggleable__label-arrow\">LogisticRegression</label><div class=\"sk-toggleable__content\"><pre>LogisticRegression()</pre></div></div></div></div></div>"
            ]
          },
          "metadata": {},
          "execution_count": 43
        }
      ]
    },
    {
      "cell_type": "code",
      "source": [
        "from sklearn import metrics\n",
        "predicted = classifier.predict(X_test)\n",
        "print(\"Logistic Regression Accuracy:\",metrics.accuracy_score(y_test, predicted))\n",
        "print(\"Logistic Regression Precision:\",metrics.precision_score(y_test, predicted))\n",
        "print(\"Logistic Regression Recall:\",metrics.recall_score(y_test, predicted))"
      ],
      "metadata": {
        "colab": {
          "base_uri": "https://localhost:8080/"
        },
        "id": "_JkKNwWcfa2G",
        "outputId": "8d2a9be8-13df-41f6-9d74-4efa86923413"
      },
      "execution_count": 44,
      "outputs": [
        {
          "output_type": "stream",
          "name": "stdout",
          "text": [
            "Logistic Regression Accuracy: 0.950430831897227\n",
            "Logistic Regression Precision: 0.8414239482200647\n",
            "Logistic Regression Recall: 0.5949656750572082\n"
          ]
        }
      ]
    }
  ]
}